{
  "nbformat": 4,
  "nbformat_minor": 0,
  "metadata": {
    "colab": {
      "provenance": [],
      "authorship_tag": "ABX9TyOIsWBAmzK8O/zu8ZfmrFBR",
      "include_colab_link": true
    },
    "kernelspec": {
      "name": "python3",
      "display_name": "Python 3"
    },
    "language_info": {
      "name": "python"
    }
  },
  "cells": [
    {
      "cell_type": "markdown",
      "metadata": {
        "id": "view-in-github",
        "colab_type": "text"
      },
      "source": [
        "<a href=\"https://colab.research.google.com/github/Alandenova/-DAA_1511.../blob/Tarea-7-De-Nova/Tarea_7_De_Nova.ipynb\" target=\"_parent\"><img src=\"https://colab.research.google.com/assets/colab-badge.svg\" alt=\"Open In Colab\"/></a>"
      ]
    },
    {
      "cell_type": "code",
      "execution_count": 2,
      "metadata": {
        "colab": {
          "base_uri": "https://localhost:8080/"
        },
        "id": "bHmJQzvGCGUR",
        "outputId": "ece305a9-ccdd-4d47-ed66-8109e67ca508"
      },
      "outputs": [
        {
          "output_type": "stream",
          "name": "stdout",
          "text": [
            "El patron se encontro en: 266\n",
            "El patron se encontro en: 268\n"
          ]
        }
      ],
      "source": [
        "\"\"\"1110010001101110100011001111000110001110001110001110100011010001110001110001110001110001110001110001110001110001\n",
        "1100011100011100011100011100011100011100011100011100011100011100011100011100011100011100011100011100011100011100011\n",
        "10001110001110001110001110001101000111110101010100111100011000\"\"\"\n",
        "#1010101\n",
        "\n",
        "campoDeSolucion = \"1110010001101110100011001111000110001110001110001110100011010001110001110001110001110001110001110001110001110001110001110001110001110001110001110001110001110001110001110001110001110001110001110001110001110001110001110001110001110001110001110001110001110001101000111110101010100111100011000\"\n",
        "patron = \"1010101\"\n",
        "\n",
        "\n",
        "for n in range (len(campoDeSolucion)):\n",
        "  cadena = campoDeSolucion[n:(n+7)]\n",
        "\n",
        "  if (patron == cadena):\n",
        "    print(\"El patron se encontro en: \" + str(n))"
      ]
    }
  ]
}