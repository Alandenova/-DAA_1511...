{
  "nbformat": 4,
  "nbformat_minor": 0,
  "metadata": {
    "colab": {
      "provenance": [],
      "authorship_tag": "ABX9TyNAGCooVxIhlmTUmUiNDGo0",
      "include_colab_link": true
    },
    "kernelspec": {
      "name": "python3",
      "display_name": "Python 3"
    },
    "language_info": {
      "name": "python"
    }
  },
  "cells": [
    {
      "cell_type": "markdown",
      "metadata": {
        "id": "view-in-github",
        "colab_type": "text"
      },
      "source": [
        "<a href=\"https://colab.research.google.com/github/Alandenova/-DAA_1511.../blob/Tarea-8-De-Nova/Tarea_8_De_Nova.ipynb\" target=\"_parent\"><img src=\"https://colab.research.google.com/assets/colab-badge.svg\" alt=\"Open In Colab\"/></a>"
      ]
    },
    {
      "cell_type": "code",
      "execution_count": 2,
      "metadata": {
        "colab": {
          "base_uri": "https://localhost:8080/"
        },
        "id": "M9btME9iHVEH",
        "outputId": "12b322c4-64b9-4445-9540-6d631330244e"
      },
      "outputs": [
        {
          "output_type": "stream",
          "name": "stdout",
          "text": [
            "la                           universidad                           nacional                           autonoma                           de                           mexico                           ha                           desempeñado                           un                           papel                           protagonico                           en                           la                           historia                           y                           en                           la                           formacion                           de                           nuestro                           pais...........................                           las                           tareas                           sustantivas                           de                           esta                           institucion                           publica                           autonoma                           y                           laica                           son                           la                           docencia                           la                           investigacion                           y                           la                           difusion                           de                           la                           cultura...........................                           en                           el                           mundo                           academico                           es                           reconocida                           como                           una                           universidad                           de                           excelencia...........................                           la                           unam                           responde                           al                           presente                           y                           mira                           el                           futuro                           como                           el                           proyecto                           cultural                           mas                           importante                           de                           mexico...........................                           la                           unam                           es                           un                           espacio                           de                           libertades...........................                           en                           ella                           se                           practica                           cotidianamente                           el                           respeto                           la                           tolerancia                           y                           el                           dialogo...........................                           la                           pluralidad                           de                           ideas                           y                           de                           pensamiento                           es                           apreciada                           como                           signo                           de                           su                           riqueza                           y                           nunca                           como                           factor                           de                           debilidad...........................\n"
          ]
        }
      ],
      "source": [
        "import typing_extensions\n",
        "\"\"\"\n",
        "Si Cupdmzaplil Uikpwuis Icbwuwti lm Tmfpkw oi lmamtxmvilw cu xixms xzwbiñwupkw mu si opabwzpi g mu si nwztikpwu lm ucmabzw xipa. Sia bizmia acabiubpdia lm mabi puabpbckpwu xcjspki, icbwuwti g sipki awu si lwkmukpi, si pudmabpñikpwu g si lpncapwu lm si kcsbczi.\n",
        "Mu ms tculw ikilmtpkw ma zmkwuwkpli kwtw cui cupdmzaplil lm mfkmsmukpi. Si CUIT zmaxwulm is xzmamubm g tpzi ms ncbczw kwtw ms xzwgmkbw kcsbczis tia ptxwzbiubm lm Tmfpkw.\n",
        "Si CUIT ma cu maxikpw lm spjmzbilma. Mu mssi am xzikbpki kwbplpiuitmubm ms zmaxmbw, si bwsmziukpi g ms lpiswñw. Si xsczisplil lm plmia g lm xmuaitpmubw ma ixzmkpili kwtw apñuw lm ac zpycmhi g ucuki kwtw nikbwz lm lmjpsplil.\n",
        "\"\"\"\n",
        "\n",
        "abecedario = [\"a\", \"b\", \"c\", \"d\", \"e\", \"f\", \"g\", \"h\", \"i\", \"j\", \"k\", \"l\", \"m\", \"n\", \"ñ\", \"o\", \"p\", \"q\", \"r\", \"s\", \"t\", \"u\", \"v\", \"w\", \"x\", \"y\", \"z\"]\n",
        "texto = \"Si Cupdmzaplil Uikpwuis Icbwuwti lm Tmfpkw oi lmamtxmvilw cu xixms xzwbiñwupkw mu si opabwzpi g mu si nwztikpwu lm ucmabzw xipa. Sia bizmia acabiubpdia lm mabi puabpbckpwu xcjspki, icbwuwti g sipki awu si lwkmukpi, si pudmabpñikpwu g si lpncapwu lm si kcsbczi. Mu ms tculw ikilmtpkw ma zmkwuwkpli kwtw cui cupdmzaplil lm mfkmsmukpi. Si CUIT zmaxwulm is xzmamubm g tpzi ms ncbczw kwtw ms xzwgmkbw kcsbczis tia ptxwzbiubm lm Tmfpkw. Si CUIT ma cu maxikpw lm spjmzbilma. Mu mssi am xzikbpki kwbplpiuitmubm ms zmaxmbw, si bwsmziukpi g ms lpiswñw. Si xsczisplil lm plmia g lm xmuaitpmubw ma ixzmkpili kwtw apñuw lm ac zpycmhi g ucuki kwtw nikbwz lm lmjpsplil.\"\n",
        "texto2 = \"\"\n",
        "\n",
        "for n in range (len(texto)):\n",
        "  letra = (texto[n:(n+1)]).lower()\n",
        "  for m in range(len(abecedario)):\n",
        "    if(letra == \".\"):\n",
        "        texto2 = texto2 + \".\"\n",
        "    if(letra == \" \"):\n",
        "        texto2 = texto2 + \" \"\n",
        "    if(letra == abecedario[m]):\n",
        "        if(letra == abecedario[8]):\n",
        "          letra2 = abecedario[0]\n",
        "          texto2 = texto2 + letra2\n",
        "        else:\n",
        "          if(letra == abecedario[9]):\n",
        "            letra2 = abecedario[1]\n",
        "            texto2 = texto2 + letra2\n",
        "          else:\n",
        "            if(letra == abecedario[10]):\n",
        "              letra2 = abecedario[2]\n",
        "              texto2 = texto2 + letra2\n",
        "            else:\n",
        "              if(letra == abecedario[11]):\n",
        "                letra2 = abecedario[3]\n",
        "                texto2 = texto2 + letra2\n",
        "              else:\n",
        "                if(letra == abecedario[12]):\n",
        "                  letra2 = abecedario[4]\n",
        "                  texto2 = texto2 + letra2\n",
        "                else:\n",
        "                  if(letra == abecedario[13]):\n",
        "                    letra2 = abecedario[5]\n",
        "                    texto2 = texto2 + letra2\n",
        "                  else:\n",
        "                    if(letra == abecedario[14]):\n",
        "                      letra2 = abecedario[6]\n",
        "                      texto2 = texto2 + letra2\n",
        "                    else:\n",
        "                      if(letra == abecedario[15]):\n",
        "                        letra2 = abecedario[7]\n",
        "                        texto2 = texto2 + letra2\n",
        "                      else:\n",
        "                        if(letra == abecedario[16]):\n",
        "                          letra2 = abecedario[8]\n",
        "                          texto2 = texto2 + letra2\n",
        "                        else:\n",
        "                          if(letra == abecedario[17]):\n",
        "                            letra2 = abecedario[9]\n",
        "                            texto2 = texto2 + letra2\n",
        "                          else:\n",
        "                            if(letra == abecedario[18]):\n",
        "                              letra2 = abecedario[10]\n",
        "                              texto2 = texto2 + letra2\n",
        "                            else:\n",
        "                              if(letra == abecedario[19]):\n",
        "                                letra2 = abecedario[11]\n",
        "                                texto2 = texto2 + letra2\n",
        "                              else:\n",
        "                                if(letra == abecedario[20]):\n",
        "                                  letra2 = abecedario[12]\n",
        "                                  texto2 = texto2 + letra2\n",
        "                                else:\n",
        "                                  if(letra == abecedario[21]):\n",
        "                                    letra2 = abecedario[13]\n",
        "                                    texto2 = texto2 + letra2\n",
        "                                  else:\n",
        "                                    if(letra == abecedario[22]):\n",
        "                                      letra2 = abecedario[14]\n",
        "                                      texto2 = texto2 + letra2\n",
        "                                    else:\n",
        "                                      if(letra == abecedario[23]):\n",
        "                                        letra2 = abecedario[15]\n",
        "                                        texto2 = texto2 + letra2\n",
        "                                      else:\n",
        "                                        if(letra == abecedario[24]):\n",
        "                                          letra2 = abecedario[16]\n",
        "                                          texto2 = texto2 + letra2\n",
        "                                        else:\n",
        "                                          if(letra == abecedario[25]):\n",
        "                                            letra2 = abecedario[17]\n",
        "                                            texto2 = texto2 + letra2\n",
        "                                          else:\n",
        "                                            if(letra == abecedario[26]):\n",
        "                                              letra2 = abecedario[18]\n",
        "                                              texto2 = texto2 + letra2\n",
        "                                            else:\n",
        "                                              indice= m + 19\n",
        "                                              letra2 = abecedario[indice]\n",
        "                                              texto2 = texto2 + letra2  \n",
        "\n",
        "print(texto2)"
      ]
    }
  ]
}